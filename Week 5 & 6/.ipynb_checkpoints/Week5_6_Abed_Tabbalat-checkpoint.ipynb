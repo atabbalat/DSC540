{
 "cells": [
  {
   "cell_type": "markdown",
   "id": "blond-conjunction",
   "metadata": {},
   "source": [
    "### Week 5 & 6\n",
    "### DSC 540\n",
    "### Abed Tabbalat"
   ]
  },
  {
   "cell_type": "code",
   "execution_count": 107,
   "id": "lyric-walnut",
   "metadata": {},
   "outputs": [],
   "source": [
    "import pandas as pd\n",
    "import numpy as np\n",
    "import matplotlib.pyplot as plt\n",
    "%matplotlib inline\n",
    "from bs4 import BeautifulSoup\n",
    "import codecs\n",
    "import sqlite3\n",
    "import sqlalchemy as sqla"
   ]
  },
  {
   "cell_type": "markdown",
   "id": "confirmed-professional",
   "metadata": {},
   "source": [
    "# Part 1"
   ]
  },
  {
   "cell_type": "markdown",
   "id": "recent-blair",
   "metadata": {},
   "source": [
    "###### Data Wrangling with Python: Activity 7 page 207"
   ]
  },
  {
   "cell_type": "code",
   "execution_count": 108,
   "id": "north-india",
   "metadata": {},
   "outputs": [],
   "source": [
    "# Opening web pages provided in the Data Wrangling category, had a hickup with the normal way\n",
    "# Used my classmates adjustment to let it work by importing codecs module\n",
    "web_1 = codecs.open(\"List of countries by GDP (nominal) - Wikipedia.htm\",\"r\",'utf-8')\n",
    "soup = BeautifulSoup(web_1)\n",
    "web_1.close()"
   ]
  },
  {
   "cell_type": "code",
   "execution_count": 109,
   "id": "steady-civilization",
   "metadata": {},
   "outputs": [
    {
     "name": "stdout",
     "output_type": "stream",
     "text": [
      "Total Tables: 9\n"
     ]
    }
   ],
   "source": [
    "# Counting the number of tables to be able to choose which table we are looking at\n",
    "total_tables = soup.find_all(\"table\")\n",
    "print(f'Total Tables: {len(total_tables)}')"
   ]
  },
  {
   "cell_type": "code",
   "execution_count": 110,
   "id": "anonymous-graham",
   "metadata": {},
   "outputs": [
    {
     "data": {
      "text/plain": [
       "bs4.element.Tag"
      ]
     },
     "execution_count": 110,
     "metadata": {},
     "output_type": "execute_result"
    }
   ],
   "source": [
    "# Finding the table needed for the excersize by targetting class attrib.\n",
    "# then calling the type() function will give us the answer\n",
    "d_table = soup.find('table', {'class': '\"wikitable\"|}'})\n",
    "type(d_table)"
   ]
  },
  {
   "cell_type": "code",
   "execution_count": 111,
   "id": "ideal-russia",
   "metadata": {},
   "outputs": [
    {
     "data": {
      "text/plain": [
       "3"
      ]
     },
     "execution_count": 111,
     "metadata": {},
     "output_type": "execute_result"
    }
   ],
   "source": [
    "# Seperating the source and the data by using the tbody command and parsing 'tr', recursive set at false\n",
    "# then will generate a list with a for loop to iter 'td'\n",
    "web_sources = d_table.tbody.findAll('tr', recursive=False)[0]\n",
    "web_sources_list = [td for td in web_sources.findAll('td')]\n",
    "len(web_sources_list)"
   ]
  },
  {
   "cell_type": "code",
   "execution_count": 112,
   "id": "toxic-indianapolis",
   "metadata": {},
   "outputs": [
    {
     "data": {
      "text/plain": [
       "3"
      ]
     },
     "execution_count": 112,
     "metadata": {},
     "output_type": "execute_result"
    }
   ],
   "source": [
    "# Using finaAll function to parse the data in the body\n",
    "# Using the finaAll function and a for loop to fill a list and find all 'td' mapping in d_table\n",
    "# then will use len() function to get the length of of d_tables\n",
    "data = d_table.tbody.findAll('tr', recursive=False)[1].findAll('td', recursive=False)\n",
    "d_tables = []\n",
    "for td in data:\n",
    "    d_tables.append(td.findAll('table'))\n",
    "len(d_tables)"
   ]
  },
  {
   "cell_type": "code",
   "execution_count": 113,
   "id": "oriental-language",
   "metadata": {},
   "outputs": [
    {
     "data": {
      "text/plain": [
       "['International Monetary Fund', 'World Bank', 'United Nations']"
      ]
     },
     "execution_count": 113,
     "metadata": {},
     "output_type": "execute_result"
    }
   ],
   "source": [
    "# Getting source names by using findAll function parsed to 'a' and then getText(), itered in a list.\n",
    "web_source_names = [s.findAll('a')[0].getText() for s in web_sources_list]\n",
    "web_source_names"
   ]
  },
  {
   "cell_type": "code",
   "execution_count": 114,
   "id": "romantic-locator",
   "metadata": {},
   "outputs": [
    {
     "data": {
      "text/plain": [
       "['Rank', 'Country', 'GDP(US$MM)']"
      ]
     },
     "execution_count": 114,
     "metadata": {},
     "output_type": "execute_result"
    }
   ],
   "source": [
    "# finding the dataframe for the first datasource\n",
    "# first, will seperate the header with the .strip() command in a for loop extracting 'thead'\n",
    "# then, finding the rows through the tbody using the findAll() function\n",
    "# then, finding the data from the rows with the strip() function parsing td\n",
    "# then using pandas DataFrame() function to convert to a dataframe\n",
    "header_1 = [th.getText().strip() for th in d_tables[0][0].findAll('thead')[0].findAll('th')]\n",
    "header_1"
   ]
  },
  {
   "cell_type": "code",
   "execution_count": 115,
   "id": "comfortable-cartoon",
   "metadata": {},
   "outputs": [
    {
     "data": {
      "text/html": [
       "<div>\n",
       "<style scoped>\n",
       "    .dataframe tbody tr th:only-of-type {\n",
       "        vertical-align: middle;\n",
       "    }\n",
       "\n",
       "    .dataframe tbody tr th {\n",
       "        vertical-align: top;\n",
       "    }\n",
       "\n",
       "    .dataframe thead th {\n",
       "        text-align: right;\n",
       "    }\n",
       "</style>\n",
       "<table border=\"1\" class=\"dataframe\">\n",
       "  <thead>\n",
       "    <tr style=\"text-align: right;\">\n",
       "      <th></th>\n",
       "      <th>Rank</th>\n",
       "      <th>Country</th>\n",
       "      <th>GDP(US$MM)</th>\n",
       "    </tr>\n",
       "  </thead>\n",
       "  <tbody>\n",
       "    <tr>\n",
       "      <th>0</th>\n",
       "      <td>1</td>\n",
       "      <td>United States</td>\n",
       "      <td>19,390,600</td>\n",
       "    </tr>\n",
       "    <tr>\n",
       "      <th>1</th>\n",
       "      <td>2</td>\n",
       "      <td>China[n 1]</td>\n",
       "      <td>12,014,610</td>\n",
       "    </tr>\n",
       "    <tr>\n",
       "      <th>2</th>\n",
       "      <td>3</td>\n",
       "      <td>Japan</td>\n",
       "      <td>4,872,135</td>\n",
       "    </tr>\n",
       "    <tr>\n",
       "      <th>3</th>\n",
       "      <td>4</td>\n",
       "      <td>Germany</td>\n",
       "      <td>3,684,816</td>\n",
       "    </tr>\n",
       "    <tr>\n",
       "      <th>4</th>\n",
       "      <td>5</td>\n",
       "      <td>United Kingdom</td>\n",
       "      <td>2,624,529</td>\n",
       "    </tr>\n",
       "    <tr>\n",
       "      <th>...</th>\n",
       "      <td>...</td>\n",
       "      <td>...</td>\n",
       "      <td>...</td>\n",
       "    </tr>\n",
       "    <tr>\n",
       "      <th>186</th>\n",
       "      <td>186</td>\n",
       "      <td>Federated States of Micronesia</td>\n",
       "      <td>329</td>\n",
       "    </tr>\n",
       "    <tr>\n",
       "      <th>187</th>\n",
       "      <td>187</td>\n",
       "      <td>Palau</td>\n",
       "      <td>321</td>\n",
       "    </tr>\n",
       "    <tr>\n",
       "      <th>188</th>\n",
       "      <td>188</td>\n",
       "      <td>Marshall Islands</td>\n",
       "      <td>199</td>\n",
       "    </tr>\n",
       "    <tr>\n",
       "      <th>189</th>\n",
       "      <td>189</td>\n",
       "      <td>Kiribati</td>\n",
       "      <td>186</td>\n",
       "    </tr>\n",
       "    <tr>\n",
       "      <th>190</th>\n",
       "      <td>190</td>\n",
       "      <td>Tuvalu</td>\n",
       "      <td>40</td>\n",
       "    </tr>\n",
       "  </tbody>\n",
       "</table>\n",
       "<p>191 rows × 3 columns</p>\n",
       "</div>"
      ],
      "text/plain": [
       "    Rank                         Country  GDP(US$MM)\n",
       "0      1                   United States  19,390,600\n",
       "1      2                      China[n 1]  12,014,610\n",
       "2      3                           Japan   4,872,135\n",
       "3      4                         Germany   3,684,816\n",
       "4      5                  United Kingdom   2,624,529\n",
       "..   ...                             ...         ...\n",
       "186  186  Federated States of Micronesia         329\n",
       "187  187                           Palau         321\n",
       "188  188                Marshall Islands         199\n",
       "189  189                        Kiribati         186\n",
       "190  190                          Tuvalu          40\n",
       "\n",
       "[191 rows x 3 columns]"
      ]
     },
     "execution_count": 115,
     "metadata": {},
     "output_type": "execute_result"
    }
   ],
   "source": [
    "rows_1 = d_tables[0][0].findAll('tbody')[0].findAll('tr')[1:]\n",
    "d_rows_1 = [[td.get_text().strip() for td in tr.findAll('td')] for tr in rows_1]\n",
    "df_1 = pd.DataFrame(d_rows_1, columns=header_1)\n",
    "df_1"
   ]
  },
  {
   "cell_type": "code",
   "execution_count": 116,
   "id": "bizarre-hearts",
   "metadata": {},
   "outputs": [
    {
     "data": {
      "text/plain": [
       "['Rank', 'Country', 'GDP(US$MM)']"
      ]
     },
     "execution_count": 116,
     "metadata": {},
     "output_type": "execute_result"
    }
   ],
   "source": [
    "# Repeating the prior process for the other 2 sources with the same logic\n",
    "header_2 = [th.getText().strip() for th in d_tables[1][0].findAll('thead')[0].findAll('th')]\n",
    "header_2"
   ]
  },
  {
   "cell_type": "code",
   "execution_count": 117,
   "id": "binding-passenger",
   "metadata": {},
   "outputs": [
    {
     "data": {
      "text/html": [
       "<div>\n",
       "<style scoped>\n",
       "    .dataframe tbody tr th:only-of-type {\n",
       "        vertical-align: middle;\n",
       "    }\n",
       "\n",
       "    .dataframe tbody tr th {\n",
       "        vertical-align: top;\n",
       "    }\n",
       "\n",
       "    .dataframe thead th {\n",
       "        text-align: right;\n",
       "    }\n",
       "</style>\n",
       "<table border=\"1\" class=\"dataframe\">\n",
       "  <thead>\n",
       "    <tr style=\"text-align: right;\">\n",
       "      <th></th>\n",
       "      <th>Rank</th>\n",
       "      <th>Country</th>\n",
       "      <th>GDP(US$MM)</th>\n",
       "    </tr>\n",
       "  </thead>\n",
       "  <tbody>\n",
       "    <tr>\n",
       "      <th>0</th>\n",
       "      <td>1</td>\n",
       "      <td>United States</td>\n",
       "      <td>19,390,604</td>\n",
       "    </tr>\n",
       "    <tr>\n",
       "      <th>1</th>\n",
       "      <td></td>\n",
       "      <td>European Union[23]</td>\n",
       "      <td>17,277,698</td>\n",
       "    </tr>\n",
       "    <tr>\n",
       "      <th>2</th>\n",
       "      <td>2</td>\n",
       "      <td>China[n 4]</td>\n",
       "      <td>12,237,700</td>\n",
       "    </tr>\n",
       "    <tr>\n",
       "      <th>3</th>\n",
       "      <td>3</td>\n",
       "      <td>Japan</td>\n",
       "      <td>4,872,137</td>\n",
       "    </tr>\n",
       "    <tr>\n",
       "      <th>4</th>\n",
       "      <td>4</td>\n",
       "      <td>Germany</td>\n",
       "      <td>3,677,439</td>\n",
       "    </tr>\n",
       "    <tr>\n",
       "      <th>...</th>\n",
       "      <td>...</td>\n",
       "      <td>...</td>\n",
       "      <td>...</td>\n",
       "    </tr>\n",
       "    <tr>\n",
       "      <th>184</th>\n",
       "      <td>184</td>\n",
       "      <td>Palau</td>\n",
       "      <td>292</td>\n",
       "    </tr>\n",
       "    <tr>\n",
       "      <th>185</th>\n",
       "      <td>185</td>\n",
       "      <td>Marshall Islands</td>\n",
       "      <td>199</td>\n",
       "    </tr>\n",
       "    <tr>\n",
       "      <th>186</th>\n",
       "      <td>186</td>\n",
       "      <td>Kiribati</td>\n",
       "      <td>196</td>\n",
       "    </tr>\n",
       "    <tr>\n",
       "      <th>187</th>\n",
       "      <td>187</td>\n",
       "      <td>Nauru</td>\n",
       "      <td>114</td>\n",
       "    </tr>\n",
       "    <tr>\n",
       "      <th>188</th>\n",
       "      <td>188</td>\n",
       "      <td>Tuvalu</td>\n",
       "      <td>40</td>\n",
       "    </tr>\n",
       "  </tbody>\n",
       "</table>\n",
       "<p>189 rows × 3 columns</p>\n",
       "</div>"
      ],
      "text/plain": [
       "    Rank             Country  GDP(US$MM)\n",
       "0      1       United States  19,390,604\n",
       "1         European Union[23]  17,277,698\n",
       "2      2          China[n 4]  12,237,700\n",
       "3      3               Japan   4,872,137\n",
       "4      4             Germany   3,677,439\n",
       "..   ...                 ...         ...\n",
       "184  184               Palau         292\n",
       "185  185    Marshall Islands         199\n",
       "186  186            Kiribati         196\n",
       "187  187               Nauru         114\n",
       "188  188              Tuvalu          40\n",
       "\n",
       "[189 rows x 3 columns]"
      ]
     },
     "execution_count": 117,
     "metadata": {},
     "output_type": "execute_result"
    }
   ],
   "source": [
    "rows_2 = d_tables[1][0].findAll('tbody')[0].findAll('tr')[1:]\n",
    "# Will need to add a custom function to strip ♠ out of the data, since I ran it in the same\n",
    "# logic of prior and I was getting huge numbers and ♠ icon that needs to be removed\n",
    "def text_strip(i, td):\n",
    "    if i == 0:\n",
    "        return td.getText().strip()\n",
    "    elif i == 1:\n",
    "        return td.getText().strip()\n",
    "    else:\n",
    "        ind = td.text.find('♠')\n",
    "        return td.text[ind+1:].strip()\n",
    "# Altering d_rows_2 to add the text_strip() function created to strip the unwanted data including ♠ icon\n",
    "d_rows_2 = [[text_strip(i, td) for i, td in enumerate(tr.findAll('td'))] for tr in rows_2]\n",
    "df_2 = pd.DataFrame(d_rows_2, columns=header_2)\n",
    "df_2"
   ]
  },
  {
   "cell_type": "code",
   "execution_count": 118,
   "id": "bronze-masters",
   "metadata": {},
   "outputs": [
    {
     "data": {
      "text/plain": [
       "['Rank', 'Country', 'GDP(US$MM)']"
      ]
     },
     "execution_count": 118,
     "metadata": {},
     "output_type": "execute_result"
    }
   ],
   "source": [
    "# Last source will be repeated same as the source source since it has the same contents that needed\n",
    "# to be removed\n",
    "header_3 = [th.getText().strip() for th in d_tables[2][0].findAll('thead')[0].findAll('th')]\n",
    "header_3"
   ]
  },
  {
   "cell_type": "code",
   "execution_count": 119,
   "id": "solar-tradition",
   "metadata": {},
   "outputs": [
    {
     "data": {
      "text/html": [
       "<div>\n",
       "<style scoped>\n",
       "    .dataframe tbody tr th:only-of-type {\n",
       "        vertical-align: middle;\n",
       "    }\n",
       "\n",
       "    .dataframe tbody tr th {\n",
       "        vertical-align: top;\n",
       "    }\n",
       "\n",
       "    .dataframe thead th {\n",
       "        text-align: right;\n",
       "    }\n",
       "</style>\n",
       "<table border=\"1\" class=\"dataframe\">\n",
       "  <thead>\n",
       "    <tr style=\"text-align: right;\">\n",
       "      <th></th>\n",
       "      <th>Rank</th>\n",
       "      <th>Country</th>\n",
       "      <th>GDP(US$MM)</th>\n",
       "    </tr>\n",
       "  </thead>\n",
       "  <tbody>\n",
       "    <tr>\n",
       "      <th>0</th>\n",
       "      <td>1</td>\n",
       "      <td>United States</td>\n",
       "      <td>18,624,475</td>\n",
       "    </tr>\n",
       "    <tr>\n",
       "      <th>1</th>\n",
       "      <td>2</td>\n",
       "      <td>China[n 4]</td>\n",
       "      <td>11,218,281</td>\n",
       "    </tr>\n",
       "    <tr>\n",
       "      <th>2</th>\n",
       "      <td>3</td>\n",
       "      <td>Japan</td>\n",
       "      <td>4,936,211</td>\n",
       "    </tr>\n",
       "    <tr>\n",
       "      <th>3</th>\n",
       "      <td>4</td>\n",
       "      <td>Germany</td>\n",
       "      <td>3,477,796</td>\n",
       "    </tr>\n",
       "    <tr>\n",
       "      <th>4</th>\n",
       "      <td>5</td>\n",
       "      <td>United Kingdom</td>\n",
       "      <td>2,647,898</td>\n",
       "    </tr>\n",
       "    <tr>\n",
       "      <th>...</th>\n",
       "      <td>...</td>\n",
       "      <td>...</td>\n",
       "      <td>...</td>\n",
       "    </tr>\n",
       "    <tr>\n",
       "      <th>206</th>\n",
       "      <td>207</td>\n",
       "      <td>Marshall Islands</td>\n",
       "      <td>209</td>\n",
       "    </tr>\n",
       "    <tr>\n",
       "      <th>207</th>\n",
       "      <td>208</td>\n",
       "      <td>Nauru</td>\n",
       "      <td>182</td>\n",
       "    </tr>\n",
       "    <tr>\n",
       "      <th>208</th>\n",
       "      <td>209</td>\n",
       "      <td>Kiribati</td>\n",
       "      <td>180</td>\n",
       "    </tr>\n",
       "    <tr>\n",
       "      <th>209</th>\n",
       "      <td>210</td>\n",
       "      <td>Montserrat</td>\n",
       "      <td>63</td>\n",
       "    </tr>\n",
       "    <tr>\n",
       "      <th>210</th>\n",
       "      <td>211</td>\n",
       "      <td>Tuvalu</td>\n",
       "      <td>38</td>\n",
       "    </tr>\n",
       "  </tbody>\n",
       "</table>\n",
       "<p>211 rows × 3 columns</p>\n",
       "</div>"
      ],
      "text/plain": [
       "    Rank           Country  GDP(US$MM)\n",
       "0      1     United States  18,624,475\n",
       "1      2        China[n 4]  11,218,281\n",
       "2      3             Japan   4,936,211\n",
       "3      4           Germany   3,477,796\n",
       "4      5    United Kingdom   2,647,898\n",
       "..   ...               ...         ...\n",
       "206  207  Marshall Islands         209\n",
       "207  208             Nauru         182\n",
       "208  209          Kiribati         180\n",
       "209  210        Montserrat          63\n",
       "210  211            Tuvalu          38\n",
       "\n",
       "[211 rows x 3 columns]"
      ]
     },
     "execution_count": 119,
     "metadata": {},
     "output_type": "execute_result"
    }
   ],
   "source": [
    "rows_3 = d_tables[2][0].findAll('tbody')[0].findAll('tr')[1:]\n",
    "d_rows_3 = [[text_strip(i, td) for i, td in enumerate(tr.findAll('td'))] for tr in rows_3]\n",
    "df_3 = pd.DataFrame(d_rows_3, columns=header_3)\n",
    "df_3"
   ]
  },
  {
   "cell_type": "markdown",
   "id": "alleged-longer",
   "metadata": {},
   "source": [
    "# Part 2"
   ]
  },
  {
   "cell_type": "markdown",
   "id": "superior-national",
   "metadata": {},
   "source": [
    "###### Data Wrangling with Python: Activity 8 page 233"
   ]
  },
  {
   "cell_type": "code",
   "execution_count": 120,
   "id": "computational-change",
   "metadata": {},
   "outputs": [
    {
     "data": {
      "text/html": [
       "<div>\n",
       "<style scoped>\n",
       "    .dataframe tbody tr th:only-of-type {\n",
       "        vertical-align: middle;\n",
       "    }\n",
       "\n",
       "    .dataframe tbody tr th {\n",
       "        vertical-align: top;\n",
       "    }\n",
       "\n",
       "    .dataframe thead th {\n",
       "        text-align: right;\n",
       "    }\n",
       "</style>\n",
       "<table border=\"1\" class=\"dataframe\">\n",
       "  <thead>\n",
       "    <tr style=\"text-align: right;\">\n",
       "      <th></th>\n",
       "      <th>id</th>\n",
       "      <th>first_name</th>\n",
       "      <th>last_name</th>\n",
       "      <th>email</th>\n",
       "      <th>gender</th>\n",
       "      <th>ip_address</th>\n",
       "      <th>visit</th>\n",
       "    </tr>\n",
       "  </thead>\n",
       "  <tbody>\n",
       "    <tr>\n",
       "      <th>0</th>\n",
       "      <td>1</td>\n",
       "      <td>Sonny</td>\n",
       "      <td>Dahl</td>\n",
       "      <td>sdahl0@mysql.com</td>\n",
       "      <td>Male</td>\n",
       "      <td>135.36.96.183</td>\n",
       "      <td>1225.0</td>\n",
       "    </tr>\n",
       "    <tr>\n",
       "      <th>1</th>\n",
       "      <td>2</td>\n",
       "      <td>NaN</td>\n",
       "      <td>NaN</td>\n",
       "      <td>dhoovart1@hud.gov</td>\n",
       "      <td>NaN</td>\n",
       "      <td>237.165.194.143</td>\n",
       "      <td>919.0</td>\n",
       "    </tr>\n",
       "    <tr>\n",
       "      <th>2</th>\n",
       "      <td>3</td>\n",
       "      <td>Gar</td>\n",
       "      <td>Armal</td>\n",
       "      <td>garmal2@technorati.com</td>\n",
       "      <td>NaN</td>\n",
       "      <td>166.43.137.224</td>\n",
       "      <td>271.0</td>\n",
       "    </tr>\n",
       "    <tr>\n",
       "      <th>3</th>\n",
       "      <td>4</td>\n",
       "      <td>Chiarra</td>\n",
       "      <td>Nulty</td>\n",
       "      <td>cnulty3@newyorker.com</td>\n",
       "      <td>NaN</td>\n",
       "      <td>139.98.137.108</td>\n",
       "      <td>1002.0</td>\n",
       "    </tr>\n",
       "    <tr>\n",
       "      <th>4</th>\n",
       "      <td>5</td>\n",
       "      <td>NaN</td>\n",
       "      <td>NaN</td>\n",
       "      <td>sleaver4@elegantthemes.com</td>\n",
       "      <td>NaN</td>\n",
       "      <td>46.117.117.27</td>\n",
       "      <td>2434.0</td>\n",
       "    </tr>\n",
       "  </tbody>\n",
       "</table>\n",
       "</div>"
      ],
      "text/plain": [
       "   id first_name last_name                       email gender  \\\n",
       "0   1      Sonny      Dahl            sdahl0@mysql.com   Male   \n",
       "1   2        NaN       NaN           dhoovart1@hud.gov    NaN   \n",
       "2   3        Gar     Armal      garmal2@technorati.com    NaN   \n",
       "3   4    Chiarra     Nulty       cnulty3@newyorker.com    NaN   \n",
       "4   5        NaN       NaN  sleaver4@elegantthemes.com    NaN   \n",
       "\n",
       "        ip_address   visit  \n",
       "0    135.36.96.183  1225.0  \n",
       "1  237.165.194.143   919.0  \n",
       "2   166.43.137.224   271.0  \n",
       "3   139.98.137.108  1002.0  \n",
       "4    46.117.117.27  2434.0  "
      ]
     },
     "execution_count": 120,
     "metadata": {},
     "output_type": "execute_result"
    }
   ],
   "source": [
    "# Reading csv file with read_csv() function then showing data with head() function\n",
    "df_p2 = pd.read_csv('visit_data.csv')\n",
    "df_p2.head()"
   ]
  },
  {
   "cell_type": "code",
   "execution_count": 121,
   "id": "molecular-hardwood",
   "metadata": {},
   "outputs": [
    {
     "name": "stdout",
     "output_type": "stream",
     "text": [
      "First name duplicate: True\n",
      "Last name duplicate: True\n",
      "E-mail duplicate: False\n"
     ]
    }
   ],
   "source": [
    "# Checking for duplicates using any() function to determine if true or false and duplicated() function\n",
    "# to find the duplicates in a certain variable\n",
    "print(f'First name duplicate: {any(df_p2.first_name.duplicated())}')\n",
    "print(f'Last name duplicate: {any(df_p2.last_name.duplicated())}')\n",
    "print(f'E-mail duplicate: {any(df_p2.email.duplicated())}')"
   ]
  },
  {
   "cell_type": "code",
   "execution_count": 122,
   "id": "saved-world",
   "metadata": {},
   "outputs": [
    {
     "name": "stdout",
     "output_type": "stream",
     "text": [
      "Email containing NaN: False\n",
      "IP Address containing NaN: False\n",
      "Visit containing NaN: True\n"
     ]
    }
   ],
   "source": [
    "# Checking for NaNs in important columns\n",
    "# this is done by using any() with isnull function similar to finding duplicates\n",
    "print(f'Email containing NaN: {df_p2.email.isnull().values.any()}')\n",
    "print(f'IP Address containing NaN: {df_p2.ip_address.isnull().values.any()}')\n",
    "print(f'Visit containing NaN: {df_p2.visit.isnull().values.any()}')"
   ]
  },
  {
   "cell_type": "code",
   "execution_count": 123,
   "id": "august-track",
   "metadata": {},
   "outputs": [
    {
     "name": "stdout",
     "output_type": "stream",
     "text": [
      "Size before: 1000\n",
      "Size After: 974\n"
     ]
    }
   ],
   "source": [
    "# Getting rid of outliters which willl be the NaN's found in visit\n",
    "# Will use the np.isfinite function in Numpy to remove NaN's from the visit column\n",
    "# Then will check on the data size before and after\n",
    "before = df_p2.shape\n",
    "df_p2 = df_p2[np.isfinite(df_p2['visit'])]\n",
    "after = df_p2.shape\n",
    "print(f'Size before: {before[0]}\\nSize After: {after[0]}')\n"
   ]
  },
  {
   "cell_type": "code",
   "execution_count": 124,
   "id": "varying-bearing",
   "metadata": {},
   "outputs": [
    {
     "data": {
      "text/plain": [
       "{'whiskers': [<matplotlib.lines.Line2D at 0x166a7f37f70>,\n",
       "  <matplotlib.lines.Line2D at 0x166a7f46460>],\n",
       " 'caps': [<matplotlib.lines.Line2D at 0x166a7f46880>,\n",
       "  <matplotlib.lines.Line2D at 0x166a7f46c10>],\n",
       " 'boxes': [<matplotlib.lines.Line2D at 0x166a7f37be0>],\n",
       " 'medians': [<matplotlib.lines.Line2D at 0x166a7f46fa0>],\n",
       " 'fliers': [<matplotlib.lines.Line2D at 0x166a7f4f370>],\n",
       " 'means': []}"
      ]
     },
     "execution_count": 124,
     "metadata": {},
     "output_type": "execute_result"
    },
    {
     "data": {
      "image/png": "[encoded data removed]",
      "text/plain": [
       "<Figure size 432x288 with 1 Axes>"
      ]
     },
     "metadata": {
      "needs_background": "light"
     },
     "output_type": "display_data"
    }
   ],
   "source": [
    "# Creating a boxplot using the matplotlib to check for additional outliers\n",
    "plt.boxplot(df_p2.visit, notch=True)"
   ]
  },
  {
   "cell_type": "code",
   "execution_count": 125,
   "id": "satellite-coaching",
   "metadata": {},
   "outputs": [
    {
     "name": "stdout",
     "output_type": "stream",
     "text": [
      "After removing outliers, the data size is: (923, 7)\n"
     ]
    }
   ],
   "source": [
    "# Will get rid of values after 2900 and lower than 100\n",
    "df2_p2 = df_p2[(df_p2['visit'] <= 2900) & (df_p2['visit'] >= 100)]\n",
    "print(f'After removing outliers, the data size is: {df2_p2.shape}')"
   ]
  },
  {
   "cell_type": "markdown",
   "id": "regulated-enterprise",
   "metadata": {},
   "source": [
    "# Part 3"
   ]
  },
  {
   "cell_type": "markdown",
   "id": "choice-vermont",
   "metadata": {},
   "source": [
    "###### Python for Data Analysis -- Create SQL Lite Database"
   ]
  },
  {
   "cell_type": "code",
   "execution_count": 132,
   "id": "adult-support",
   "metadata": {},
   "outputs": [],
   "source": [
    "# Creating the query into SQLite and identifying column names\n",
    "query = \"\"\"\n",
    "CREATE TABLE contact_info_1\n",
    "(Name VARCHAR(40), Address VARCHAR(50), \n",
    "City VARCHAR(40), State VARCHAR(2),\n",
    "Zip INTEGER(5), Phone_Number INTEGER(10)\n",
    ");\"\"\""
   ]
  },
  {
   "cell_type": "code",
   "execution_count": 134,
   "id": "generic-cologne",
   "metadata": {},
   "outputs": [
    {
     "data": {
      "text/plain": [
       "<sqlite3.Cursor at 0x166a7e97810>"
      ]
     },
     "execution_count": 134,
     "metadata": {},
     "output_type": "execute_result"
    }
   ],
   "source": [
    "# Executing query into SQL Lite\n",
    "con = sqlite3.connect('mydata_1.sqlite')\n",
    "con.execute(query)"
   ]
  },
  {
   "cell_type": "code",
   "execution_count": 135,
   "id": "parallel-hampton",
   "metadata": {},
   "outputs": [],
   "source": [
    "# committing query after execution\n",
    "con.commit()"
   ]
  },
  {
   "cell_type": "code",
   "execution_count": 136,
   "id": "floppy-cancellation",
   "metadata": {},
   "outputs": [],
   "source": [
    "# Inserting 10 rows into the database\n",
    "data = [('Abed Tabbalat', '111 Red Street', 'Orlando', 'FL', 11111, 1111111111), \n",
    "        ('John Doe', '222 Orange Street', 'Chicago', 'IL', 22222, 2222222222), \n",
    "        ('Colin Stutterfly', '333 Blue Street', 'Detroit', 'MI', 33333, 3333333333), \n",
    "        ('Maddie Deal', '444 Black Street', 'Dallas', 'TX', 44444, 4444444444), \n",
    "        ('Scott Charbonneau', '555 Silver Street', 'New York', 'NY', 55555, 5555555555), \n",
    "        ('Taldah Mushasha', '666 Yellow Street', 'Boston', 'MA', 66666, 6666666666),\n",
    "        ('Mohammad Hamdan', '777 Brown Street', 'Los Angeles', 'CA', 77777, 7777777777),\n",
    "        ('Rich Griggs', '888 Gold Street', 'Las Vegas', 'NV', 88888, 8888888888), \n",
    "        ('Alex Smith', '999 Violet Street', 'Celveland', 'OH', 99999, 9999999999), \n",
    "        ('Katey Jones', '123 Green Street', 'Reston', 'VA', 12312, 1231231231)]"
   ]
  },
  {
   "cell_type": "code",
   "execution_count": 137,
   "id": "prompt-roads",
   "metadata": {},
   "outputs": [],
   "source": [
    "# SQL command to insert data into table\n",
    "stmt = \"INSERT INTO contact_info_1 VALUES(?, ?, ?, ?, ?, ?)\""
   ]
  },
  {
   "cell_type": "code",
   "execution_count": 138,
   "id": "applicable-idaho",
   "metadata": {},
   "outputs": [
    {
     "data": {
      "text/plain": [
       "<sqlite3.Cursor at 0x166a7e89d50>"
      ]
     },
     "execution_count": 138,
     "metadata": {},
     "output_type": "execute_result"
    }
   ],
   "source": [
    "# Execution to insert rows into table\n",
    "con.executemany(stmt, data)"
   ]
  },
  {
   "cell_type": "code",
   "execution_count": 139,
   "id": "shaped-election",
   "metadata": {},
   "outputs": [
    {
     "data": {
      "text/plain": [
       "[('Abed Tabbalat', '111 Red Street', 'Orlando', 'FL', 11111, 1111111111),\n",
       " ('John Doe', '222 Orange Street', 'Chicago', 'IL', 22222, 2222222222),\n",
       " ('Colin Stutterfly', '333 Blue Street', 'Detroit', 'MI', 33333, 3333333333),\n",
       " ('Maddie Deal', '444 Black Street', 'Dallas', 'TX', 44444, 4444444444),\n",
       " ('Scott Charbonneau',\n",
       "  '555 Silver Street',\n",
       "  'New York',\n",
       "  'NY',\n",
       "  55555,\n",
       "  5555555555),\n",
       " ('Taldah Mushasha', '666 Yellow Street', 'Boston', 'MA', 66666, 6666666666),\n",
       " ('Mohammad Hamdan',\n",
       "  '777 Brown Street',\n",
       "  'Los Angeles',\n",
       "  'CA',\n",
       "  77777,\n",
       "  7777777777),\n",
       " ('Rich Griggs', '888 Gold Street', 'Las Vegas', 'NV', 88888, 8888888888),\n",
       " ('Alex Smith', '999 Violet Street', 'Celveland', 'OH', 99999, 9999999999),\n",
       " ('Katey Jones', '123 Green Street', 'Reston', 'VA', 12312, 1231231231)]"
      ]
     },
     "execution_count": 139,
     "metadata": {},
     "output_type": "execute_result"
    }
   ],
   "source": [
    "# Selecting data from SQL table\n",
    "cursor = con.execute('select * from contact_info_1')\n",
    "rows = cursor.fetchall()\n",
    "rows"
   ]
  },
  {
   "cell_type": "code",
   "execution_count": 140,
   "id": "rough-melissa",
   "metadata": {},
   "outputs": [
    {
     "data": {
      "text/html": [
       "<div>\n",
       "<style scoped>\n",
       "    .dataframe tbody tr th:only-of-type {\n",
       "        vertical-align: middle;\n",
       "    }\n",
       "\n",
       "    .dataframe tbody tr th {\n",
       "        vertical-align: top;\n",
       "    }\n",
       "\n",
       "    .dataframe thead th {\n",
       "        text-align: right;\n",
       "    }\n",
       "</style>\n",
       "<table border=\"1\" class=\"dataframe\">\n",
       "  <thead>\n",
       "    <tr style=\"text-align: right;\">\n",
       "      <th></th>\n",
       "      <th>Name</th>\n",
       "      <th>Address</th>\n",
       "      <th>City</th>\n",
       "      <th>State</th>\n",
       "      <th>Zip</th>\n",
       "      <th>Phone_Number</th>\n",
       "    </tr>\n",
       "  </thead>\n",
       "  <tbody>\n",
       "    <tr>\n",
       "      <th>0</th>\n",
       "      <td>Abed Tabbalat</td>\n",
       "      <td>111 Red Street</td>\n",
       "      <td>Orlando</td>\n",
       "      <td>FL</td>\n",
       "      <td>11111</td>\n",
       "      <td>1111111111</td>\n",
       "    </tr>\n",
       "    <tr>\n",
       "      <th>1</th>\n",
       "      <td>John Doe</td>\n",
       "      <td>222 Orange Street</td>\n",
       "      <td>Chicago</td>\n",
       "      <td>IL</td>\n",
       "      <td>22222</td>\n",
       "      <td>2222222222</td>\n",
       "    </tr>\n",
       "    <tr>\n",
       "      <th>2</th>\n",
       "      <td>Colin Stutterfly</td>\n",
       "      <td>333 Blue Street</td>\n",
       "      <td>Detroit</td>\n",
       "      <td>MI</td>\n",
       "      <td>33333</td>\n",
       "      <td>3333333333</td>\n",
       "    </tr>\n",
       "    <tr>\n",
       "      <th>3</th>\n",
       "      <td>Maddie Deal</td>\n",
       "      <td>444 Black Street</td>\n",
       "      <td>Dallas</td>\n",
       "      <td>TX</td>\n",
       "      <td>44444</td>\n",
       "      <td>4444444444</td>\n",
       "    </tr>\n",
       "    <tr>\n",
       "      <th>4</th>\n",
       "      <td>Scott Charbonneau</td>\n",
       "      <td>555 Silver Street</td>\n",
       "      <td>New York</td>\n",
       "      <td>NY</td>\n",
       "      <td>55555</td>\n",
       "      <td>5555555555</td>\n",
       "    </tr>\n",
       "    <tr>\n",
       "      <th>5</th>\n",
       "      <td>Taldah Mushasha</td>\n",
       "      <td>666 Yellow Street</td>\n",
       "      <td>Boston</td>\n",
       "      <td>MA</td>\n",
       "      <td>66666</td>\n",
       "      <td>6666666666</td>\n",
       "    </tr>\n",
       "    <tr>\n",
       "      <th>6</th>\n",
       "      <td>Mohammad Hamdan</td>\n",
       "      <td>777 Brown Street</td>\n",
       "      <td>Los Angeles</td>\n",
       "      <td>CA</td>\n",
       "      <td>77777</td>\n",
       "      <td>7777777777</td>\n",
       "    </tr>\n",
       "    <tr>\n",
       "      <th>7</th>\n",
       "      <td>Rich Griggs</td>\n",
       "      <td>888 Gold Street</td>\n",
       "      <td>Las Vegas</td>\n",
       "      <td>NV</td>\n",
       "      <td>88888</td>\n",
       "      <td>8888888888</td>\n",
       "    </tr>\n",
       "    <tr>\n",
       "      <th>8</th>\n",
       "      <td>Alex Smith</td>\n",
       "      <td>999 Violet Street</td>\n",
       "      <td>Celveland</td>\n",
       "      <td>OH</td>\n",
       "      <td>99999</td>\n",
       "      <td>9999999999</td>\n",
       "    </tr>\n",
       "    <tr>\n",
       "      <th>9</th>\n",
       "      <td>Katey Jones</td>\n",
       "      <td>123 Green Street</td>\n",
       "      <td>Reston</td>\n",
       "      <td>VA</td>\n",
       "      <td>12312</td>\n",
       "      <td>1231231231</td>\n",
       "    </tr>\n",
       "  </tbody>\n",
       "</table>\n",
       "</div>"
      ],
      "text/plain": [
       "                Name            Address         City State    Zip  \\\n",
       "0      Abed Tabbalat     111 Red Street      Orlando    FL  11111   \n",
       "1           John Doe  222 Orange Street      Chicago    IL  22222   \n",
       "2   Colin Stutterfly    333 Blue Street      Detroit    MI  33333   \n",
       "3        Maddie Deal   444 Black Street       Dallas    TX  44444   \n",
       "4  Scott Charbonneau  555 Silver Street     New York    NY  55555   \n",
       "5    Taldah Mushasha  666 Yellow Street       Boston    MA  66666   \n",
       "6    Mohammad Hamdan   777 Brown Street  Los Angeles    CA  77777   \n",
       "7        Rich Griggs    888 Gold Street    Las Vegas    NV  88888   \n",
       "8         Alex Smith  999 Violet Street    Celveland    OH  99999   \n",
       "9        Katey Jones   123 Green Street       Reston    VA  12312   \n",
       "\n",
       "   Phone_Number  \n",
       "0    1111111111  \n",
       "1    2222222222  \n",
       "2    3333333333  \n",
       "3    4444444444  \n",
       "4    5555555555  \n",
       "5    6666666666  \n",
       "6    7777777777  \n",
       "7    8888888888  \n",
       "8    9999999999  \n",
       "9    1231231231  "
      ]
     },
     "execution_count": 140,
     "metadata": {},
     "output_type": "execute_result"
    }
   ],
   "source": [
    "# Adding SQL data in a dataframe\n",
    "sql_df = pd.DataFrame(rows, columns=[x[0] for x in cursor.description])\n",
    "sql_df"
   ]
  },
  {
   "cell_type": "code",
   "execution_count": null,
   "id": "injured-guitar",
   "metadata": {},
   "outputs": [],
   "source": []
  },
  {
   "cell_type": "code",
   "execution_count": null,
   "id": "respiratory-frontier",
   "metadata": {},
   "outputs": [],
   "source": []
  }
 ],
 "metadata": {
  "kernelspec": {
   "display_name": "Python 3",
   "language": "python",
   "name": "python3"
  },
  "language_info": {
   "codemirror_mode": {
    "name": "ipython",
    "version": 3
   },
   "file_extension": ".py",
   "mimetype": "text/x-python",
   "name": "python",
   "nbconvert_exporter": "python",
   "pygments_lexer": "ipython3",
   "version": "3.8.8"
  }
 },
 "nbformat": 4,
 "nbformat_minor": 5
}
