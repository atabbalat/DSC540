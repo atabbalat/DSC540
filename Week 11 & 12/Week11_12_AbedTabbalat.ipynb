{
 "cells": [
  {
   "cell_type": "markdown",
   "id": "polish-firmware",
   "metadata": {},
   "source": [
    "### Week 11 & 12\n",
    "### DSC 540\n",
    "### Abed Tabbalat"
   ]
  },
  {
   "cell_type": "markdown",
   "id": "identified-kruger",
   "metadata": {},
   "source": [
    "###### Data Wrangling with Python: Activity 11 page 320"
   ]
  },
  {
   "cell_type": "code",
   "execution_count": 11,
   "id": "furnished-committee",
   "metadata": {},
   "outputs": [],
   "source": [
    "import pandas as pd\n",
    "import numpy as np\n",
    "import sqlite3"
   ]
  },
  {
   "cell_type": "code",
   "execution_count": 12,
   "id": "floral-thing",
   "metadata": {},
   "outputs": [],
   "source": [
    "# Connecting to petsdb\n",
    "conn = sqlite3.connect('petsdb')"
   ]
  },
  {
   "cell_type": "code",
   "execution_count": 13,
   "id": "polished-armstrong",
   "metadata": {},
   "outputs": [],
   "source": [
    "# Creating a function that can determine whether the connection to the database is open or closed\n",
    "def open_check(conn):\n",
    "    try:\n",
    "        conn.execute('SELECT * FROM persons LIMIT 1')\n",
    "        return True\n",
    "    except sqlite3.ProgrammingError as e:\n",
    "        print(f'Connection is closed: {e}')\n",
    "        return False"
   ]
  },
  {
   "cell_type": "code",
   "execution_count": 14,
   "id": "serious-johnston",
   "metadata": {},
   "outputs": [
    {
     "name": "stdout",
     "output_type": "stream",
     "text": [
      "True\n"
     ]
    }
   ],
   "source": [
    "# Checking status of database\n",
    "print(open_check(conn))"
   ]
  },
  {
   "cell_type": "code",
   "execution_count": 15,
   "id": "moral-tonight",
   "metadata": {},
   "outputs": [
    {
     "name": "stdout",
     "output_type": "stream",
     "text": [
      "Connection is closed: Cannot operate on a closed database.\n",
      "False\n"
     ]
    }
   ],
   "source": [
    "# Since database is open, close attempt and then rechecking the status\n",
    "conn.close()\n",
    "print(open_check(conn))"
   ]
  },
  {
   "cell_type": "code",
   "execution_count": 19,
   "id": "accepted-marathon",
   "metadata": {},
   "outputs": [
    {
     "name": "stdout",
     "output_type": "stream",
     "text": [
      "There are 2 people aged 5\n",
      "There are 1 people aged 6\n",
      "There are 1 people aged 7\n",
      "There are 3 people aged 8\n",
      "There are 1 people aged 9\n",
      "There are 2 people aged 11\n",
      "There are 3 people aged 12\n",
      "There are 1 people aged 13\n",
      "There are 4 people aged 14\n",
      "There are 2 people aged 16\n",
      "There are 2 people aged 17\n",
      "There are 3 people aged 18\n",
      "There are 1 people aged 19\n",
      "There are 3 people aged 22\n",
      "There are 2 people aged 23\n",
      "There are 3 people aged 24\n",
      "There are 2 people aged 25\n",
      "There are 1 people aged 27\n",
      "There are 1 people aged 30\n",
      "There are 3 people aged 31\n",
      "There are 1 people aged 32\n",
      "There are 1 people aged 33\n",
      "There are 2 people aged 34\n",
      "There are 3 people aged 35\n",
      "There are 3 people aged 36\n",
      "There are 1 people aged 37\n",
      "There are 2 people aged 39\n",
      "There are 1 people aged 40\n",
      "There are 1 people aged 42\n",
      "There are 2 people aged 44\n",
      "There are 2 people aged 48\n",
      "There are 1 people aged 49\n",
      "There are 1 people aged 50\n",
      "There are 2 people aged 51\n",
      "There are 2 people aged 52\n",
      "There are 2 people aged 53\n",
      "There are 2 people aged 54\n",
      "There are 1 people aged 58\n",
      "There are 1 people aged 59\n",
      "There are 1 people aged 60\n",
      "There are 1 people aged 61\n",
      "There are 2 people aged 62\n",
      "There are 1 people aged 63\n",
      "There are 2 people aged 65\n",
      "There are 2 people aged 66\n",
      "There are 1 people aged 67\n",
      "There are 3 people aged 68\n",
      "There are 1 people aged 69\n",
      "There are 1 people aged 70\n",
      "There are 4 people aged 71\n",
      "There are 1 people aged 72\n",
      "There are 5 people aged 73\n",
      "There are 3 people aged 74\n"
     ]
    }
   ],
   "source": [
    "# Finding the different age groups in the persons database\n",
    "# Will reopen database first\n",
    "conn = sqlite3.connect('petsdb')\n",
    "c = conn.cursor()\n",
    "for ppl, age in c.execute('SELECT count (*), age FROM persons GROUP BY age'):\n",
    "    print(f'There are {ppl} people aged {age}')"
   ]
  },
  {
   "cell_type": "code",
   "execution_count": 21,
   "id": "reported-alberta",
   "metadata": {},
   "outputs": [
    {
     "name": "stdout",
     "output_type": "stream",
     "text": [
      "Highest number of people: 5\n",
      "Age: 73\n"
     ]
    }
   ],
   "source": [
    "# Finding which age group has the highest number of people\n",
    "for ppl, age in c.execute('SELECT count (*), age FROM persons GROUP BY age ORDER BY count (*) DESC'):\n",
    "    print(f'Highest number of people: {ppl}')\n",
    "    print(f'Age: {age}')\n",
    "    break"
   ]
  },
  {
   "cell_type": "code",
   "execution_count": 22,
   "id": "packed-burner",
   "metadata": {},
   "outputs": [
    {
     "name": "stdout",
     "output_type": "stream",
     "text": [
      "(60,)\n"
     ]
    }
   ],
   "source": [
    "# Find out how many people do not have a full name\n",
    "for k in c.execute('SELECT count (*) FROM persons WHERE last_name IS null'):\n",
    "    print(k)"
   ]
  },
  {
   "cell_type": "code",
   "execution_count": 24,
   "id": "parallel-apparatus",
   "metadata": {},
   "outputs": [
    {
     "name": "stdout",
     "output_type": "stream",
     "text": [
      "People with more than one pet: 43\n"
     ]
    }
   ],
   "source": [
    "# Finding how many people have more than one pet\n",
    "for k in c.execute ('SELECT count (*) FROM (SELECT count (owner_id) FROM pets GROUP BY owner_ID HAVING count(owner_id) >1)'):\n",
    "    print(f'People with more than one pet: {k[0]}')"
   ]
  },
  {
   "cell_type": "code",
   "execution_count": 25,
   "id": "enhanced-geography",
   "metadata": {},
   "outputs": [
    {
     "name": "stdout",
     "output_type": "stream",
     "text": [
      "(36,)\n"
     ]
    }
   ],
   "source": [
    "# Finding how many pets received treatement\n",
    "for k in c.execute ('SELECT count(*) FROM pets WHERE treatment_done=1'):\n",
    "    print(k)"
   ]
  },
  {
   "cell_type": "code",
   "execution_count": 27,
   "id": "dried-response",
   "metadata": {},
   "outputs": [
    {
     "name": "stdout",
     "output_type": "stream",
     "text": [
      "(16,)\n"
     ]
    }
   ],
   "source": [
    "# Finding how many pets received treatement with known type\n",
    "for k in c.execute('SELECT count(*) FROM pets WHERE treatment_done=1 AND pet_type IS NOT null'):\n",
    "    print(k)"
   ]
  },
  {
   "cell_type": "code",
   "execution_count": 28,
   "id": "perceived-filter",
   "metadata": {},
   "outputs": [
    {
     "name": "stdout",
     "output_type": "stream",
     "text": [
      "(49,)\n"
     ]
    }
   ],
   "source": [
    "# Finding how many pets are from the city called east port\n",
    "for k in c.execute('SELECT count(*) FROM pets JOIN persons ON pets.owner_id=persons.id WHERE persons.city=\"east port\"'):\n",
    "    print(k)"
   ]
  },
  {
   "cell_type": "code",
   "execution_count": 30,
   "id": "indirect-connectivity",
   "metadata": {},
   "outputs": [
    {
     "name": "stdout",
     "output_type": "stream",
     "text": [
      "(11,)\n"
     ]
    }
   ],
   "source": [
    "# Finding out how many pets are from the city east port and who received treatement\n",
    "for k in c.execute ('SELECT count(*) FROM pets JOIN persons ON pets.owner_id = persons.id WHERE persons.city=\"east port\" AND pets.treatment_done=1'):\n",
    "    print(k)"
   ]
  },
  {
   "cell_type": "code",
   "execution_count": null,
   "id": "institutional-relaxation",
   "metadata": {},
   "outputs": [],
   "source": []
  }
 ],
 "metadata": {
  "kernelspec": {
   "display_name": "Python 3",
   "language": "python",
   "name": "python3"
  },
  "language_info": {
   "codemirror_mode": {
    "name": "ipython",
    "version": 3
   },
   "file_extension": ".py",
   "mimetype": "text/x-python",
   "name": "python",
   "nbconvert_exporter": "python",
   "pygments_lexer": "ipython3",
   "version": "3.8.8"
  }
 },
 "nbformat": 4,
 "nbformat_minor": 5
}
